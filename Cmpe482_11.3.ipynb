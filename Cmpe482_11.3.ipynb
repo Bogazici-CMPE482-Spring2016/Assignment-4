{
 "cells": [
  {
   "cell_type": "code",
   "execution_count": 1,
   "metadata": {
    "collapsed": true
   },
   "outputs": [],
   "source": [
    "import numpy as np\n",
    "m = 50\n",
    "n = 12\n",
    "\n",
    "t = np.linspace(0.0, 1.0, num = m)\n",
    "b = np.cos(4*t)\n",
    "A = np.fliplr(np.vander(t,n))"
   ]
  },
  {
   "cell_type": "code",
   "execution_count": 2,
   "metadata": {
    "collapsed": true
   },
   "outputs": [],
   "source": [
    "# Modified Gram-Schmidt\n",
    "def mgs(X):\n",
    "    m,n = X.shape\n",
    "    Q = np.zeros((m,n))\n",
    "    r = np.zeros((n,n))\n",
    "    v = np.zeros((m,n))\n",
    "    \n",
    "    for i in range(n):\n",
    "        v[:,i] = X[:,i]\n",
    "    \n",
    "    for i in range(n):\n",
    "        r[i,i] = np.linalg.norm(v[:,i])\n",
    "        Q[:,i] = v[:,i]/r[i,i]\n",
    "        \n",
    "        for j in range(i+1,n,1):\n",
    "            r[i,j] = np.inner(Q[:,i],v[:,j])\n",
    "            v[:,j] = v[:,j] - r[i,j]*Q[:,i]\n",
    "    \n",
    "    return Q,r    "
   ]
  },
  {
   "cell_type": "code",
   "execution_count": 3,
   "metadata": {
    "collapsed": false
   },
   "outputs": [],
   "source": [
    "# Householder\n",
    "def house(X):\n",
    "    m,n = X.shape\n",
    "    r = np.copy(X)\n",
    "    Q = np.eye(m)\n",
    "    u = np.zeros((m,n))\n",
    "    \n",
    "    for k in range(n):\n",
    "        v = np.zeros((m-k))\n",
    "        v[0:m-k] = np.copy(r[k:m,k])\n",
    "        v[0] = v[0] + np.sign(v[0])*np.linalg.norm(v)\n",
    "        v = v/np.linalg.norm(v)\n",
    "        r[k:m,k:n] = r[k:m,k:n] - 2*np.outer(v,np.dot(v,r[k:m,k:n]))\n",
    "        u[k:m,k] = v\n",
    "    r = r[0:n, 0:n]\n",
    "    for j in range(m):\n",
    "        for k in np.arange(n-1,-1,-1):\n",
    "            Q[k:m,j] = Q[k:m,j] - 2*u[k:m,k]*np.inner((u[k:m,k]), Q[k:m,j])\n",
    "            \n",
    "    return Q,r"
   ]
  },
  {
   "cell_type": "code",
   "execution_count": 4,
   "metadata": {
    "collapsed": false
   },
   "outputs": [
    {
     "name": "stdout",
     "output_type": "stream",
     "text": [
      "[  9.99999982e-01   5.27568297e-06  -8.00019731e+00   2.88709481e-03\n",
      "   1.06447554e+01   9.80231858e-02  -5.96533292e+00   5.09312937e-01\n",
      "   1.00102384e+00   5.17008817e-01  -5.87771299e-01   1.26641439e-01]\n",
      "Residual: 9.19958337116e-08\n"
     ]
    }
   ],
   "source": [
    "xa = np.linalg.solve(np.dot(np.transpose(A),A),np.dot(np.transpose(A),b))\n",
    "print(xa)\n",
    "print('Residual:',np.linalg.norm(np.dot(A,xa)-b))"
   ]
  },
  {
   "cell_type": "code",
   "execution_count": 5,
   "metadata": {
    "collapsed": false
   },
   "outputs": [
    {
     "name": "stdout",
     "output_type": "stream",
     "text": [
      "[  9.99999997e-01   9.04362240e-07  -8.00003131e+00   4.21536453e-04\n",
      "   1.06637485e+01   1.18774811e-02  -5.72006386e+00   5.85498547e-02\n",
      "   1.53523640e+00   1.22738531e-01  -4.22961580e-01   9.68399500e-02]\n",
      "Residual: 2.24256877751e-08\n"
     ]
    }
   ],
   "source": [
    "q,r = mgs(A)\n",
    "xb = np.linalg.solve(r,(np.dot(np.transpose(q),b)))\n",
    "print(xb)\n",
    "print('Residual:',np.linalg.norm(np.dot(A,xb)-b))"
   ]
  },
  {
   "cell_type": "code",
   "execution_count": 6,
   "metadata": {
    "collapsed": false
   },
   "outputs": [
    {
     "name": "stdout",
     "output_type": "stream",
     "text": [
      "[  1.00000000e+00  -4.22743428e-07  -7.99998124e+00  -3.18763435e-04\n",
      "   1.06694308e+01  -1.38202938e-02  -5.64707561e+00  -7.53160505e-02\n",
      "   1.69360699e+00   6.03208843e-03  -3.74241695e-01   8.80405747e-02]\n",
      "Residual: 7.99915391661e-09\n"
     ]
    }
   ],
   "source": [
    "q,r = house(A)\n",
    "q = q[:, 0:12]\n",
    "xc = np.linalg.solve(r, np.dot(np.transpose(q), b))\n",
    "print(xc)\n",
    "print('Residual:',np.linalg.norm(np.dot(A,xc)-b))"
   ]
  },
  {
   "cell_type": "code",
   "execution_count": 7,
   "metadata": {
    "collapsed": false
   },
   "outputs": [
    {
     "name": "stdout",
     "output_type": "stream",
     "text": [
      "[  1.00000000e+00  -4.22743329e-07  -7.99998124e+00  -3.18763366e-04\n",
      "   1.06694308e+01  -1.38202917e-02  -5.64707562e+00  -7.53160411e-02\n",
      "   1.69360698e+00   6.03209558e-03  -3.74241698e-01   8.80405751e-02]\n",
      "Residual: 7.99915493073e-09\n"
     ]
    }
   ],
   "source": [
    "q,r = np.linalg.qr(A)\n",
    "xd = np.linalg.solve(r,(np.dot(np.transpose(q),b)))\n",
    "print(xd)\n",
    "print('Residual:',np.linalg.norm(np.dot(A,xd)-b))"
   ]
  },
  {
   "cell_type": "code",
   "execution_count": 8,
   "metadata": {
    "collapsed": false
   },
   "outputs": [
    {
     "name": "stdout",
     "output_type": "stream",
     "text": [
      "[  1.00000000e+00  -4.22743385e-07  -7.99998124e+00  -3.18763385e-04\n",
      "   1.06694308e+01  -1.38202922e-02  -5.64707562e+00  -7.53160432e-02\n",
      "   1.69360698e+00   6.03209400e-03  -3.74241698e-01   8.80405750e-02]\n",
      "Residual: 7.99915472986e-09\n"
     ]
    }
   ],
   "source": [
    "xe = np.linalg.lstsq(A,b)[0]\n",
    "print(xe)\n",
    "print('Residual:',np.linalg.norm(np.dot(A,xe)-b))"
   ]
  },
  {
   "cell_type": "code",
   "execution_count": 9,
   "metadata": {
    "collapsed": false
   },
   "outputs": [
    {
     "name": "stdout",
     "output_type": "stream",
     "text": [
      "[  1.00000000e+00  -4.22743311e-07  -7.99998124e+00  -3.18763364e-04\n",
      "   1.06694308e+01  -1.38202917e-02  -5.64707562e+00  -7.53160409e-02\n",
      "   1.69360698e+00   6.03209570e-03  -3.74241698e-01   8.80405751e-02]\n",
      "Residual: 7.99915438104e-09\n"
     ]
    }
   ],
   "source": [
    "U, s, V = np.linalg.svd(A, full_matrices=False)\n",
    "S = np.diag(s)\n",
    "xf = np.dot(np.transpose(V),np.linalg.solve(S,np.dot(np.transpose(U),b)))\n",
    "print(xf)\n",
    "print('Residual:',np.linalg.norm(np.dot(A,xf)-b))"
   ]
  },
  {
   "cell_type": "markdown",
   "metadata": {},
   "source": [
    "All of them are more stable than classical method."
   ]
  }
 ],
 "metadata": {
  "kernelspec": {
   "display_name": "Python 3",
   "language": "python",
   "name": "python3"
  },
  "language_info": {
   "codemirror_mode": {
    "name": "ipython",
    "version": 3
   },
   "file_extension": ".py",
   "mimetype": "text/x-python",
   "name": "python",
   "nbconvert_exporter": "python",
   "pygments_lexer": "ipython3",
   "version": "3.4.4"
  }
 },
 "nbformat": 4,
 "nbformat_minor": 0
}
